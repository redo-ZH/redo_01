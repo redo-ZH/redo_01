{
 "cells": [
  {
   "cell_type": "code",
   "execution_count": 7,
   "metadata": {},
   "outputs": [
    {
     "data": {
      "image/png": "[encoded data removed]",
      "text/plain": [
       "<Figure size 500x100 with 5 Axes>"
      ]
     },
     "metadata": {},
     "output_type": "display_data"
    }
   ],
   "source": [
    "import numpy as np\n",
    "import matplotlib.pyplot as plt\n",
    "from skimage import color\n",
    "from scipy.spatial.distance import cdist\n",
    "\n",
    "def generate_perceptually_distinct_colors(n):\n",
    "    # Generate a dense grid of colors in L*a*b* space\n",
    "    L = np.linspace(20, 80, 10)   # Lightness range\n",
    "    a = np.linspace(-80, 80, 20)  # a* color range\n",
    "    b = np.linspace(-80, 80, 20)  # b* color range\n",
    "\n",
    "    # Create a grid of all combinations of L, a, b values\n",
    "    lab_grid = np.array(np.meshgrid(L, a, b)).T.reshape(-1, 3)\n",
    "\n",
    "    # Initialize the list of chosen colors and start with a random color\n",
    "    chosen_colors = [lab_grid[np.random.choice(len(lab_grid))]]\n",
    "\n",
    "    # Iteratively select colors that maximize perceptual distance\n",
    "    for _ in range(n - 1):\n",
    "        # Compute distances from the chosen colors to all remaining candidates\n",
    "        distances = cdist(chosen_colors, lab_grid, metric='euclidean')\n",
    "        min_distances = distances.min(axis=0)\n",
    "        \n",
    "        # Choose the color with the maximum minimal distance to existing colors\n",
    "        next_color = lab_grid[min_distances.argmax()]\n",
    "        chosen_colors.append(next_color)\n",
    "\n",
    "    # Convert chosen L*a*b* colors to RGB for visualization\n",
    "    rgb_colors = color.lab2rgb(np.array(chosen_colors).reshape(1, -1, 3)).reshape(-1, 3)\n",
    "    return rgb_colors\n",
    "\n",
    "# Example usage with n levels\n",
    "n_levels = 5\n",
    "colors = generate_perceptually_distinct_colors(n_levels)\n",
    "\n",
    "# Visualize the generated colors\n",
    "fig, ax = plt.subplots(1, n_levels, figsize=(n_levels, 1))\n",
    "for i in range(n_levels):\n",
    "    ax[i].add_patch(plt.Rectangle((0, 0), 1, 1, color=colors[i]))\n",
    "    ax[i].axis('off')\n",
    "plt.show()"
   ]
  },
  {
   "cell_type": "code",
   "execution_count": 8,
   "metadata": {},
   "outputs": [
    {
     "data": {
      "image/png": "[encoded data removed]",
      "text/plain": [
       "<Figure size 1000x100 with 10 Axes>"
      ]
     },
     "metadata": {},
     "output_type": "display_data"
    }
   ],
   "source": [
    "import numpy as np\n",
    "import matplotlib.pyplot as plt\n",
    "from skimage import color\n",
    "\n",
    "def generate_colors(n):\n",
    "    # Generate points that are evenly spaced in a 3D space (L*a*b* color space)\n",
    "    theta = np.linspace(0, 2 * np.pi, n, endpoint=False)\n",
    "    radius = np.linspace(20, 100, n)\n",
    "    lightness = np.linspace(20, 80, n)\n",
    "    \n",
    "    # Convert spherical to cartesian coordinates\n",
    "    a = radius * np.cos(theta)\n",
    "    b = radius * np.sin(theta)\n",
    "    L = lightness\n",
    "    \n",
    "    # Stack the L*a*b* coordinates\n",
    "    lab_colors = np.vstack((L, a, b)).T\n",
    "    \n",
    "    # Convert L*a*b* to RGB\n",
    "    rgb_colors = color.lab2rgb(lab_colors.reshape(1, -1, 3)).reshape(-1, 3)\n",
    "    \n",
    "    return rgb_colors\n",
    "\n",
    "# Example usage with n levels\n",
    "n_levels = 10\n",
    "colors = generate_colors(n_levels)\n",
    "\n",
    "# Visualize the generated colors\n",
    "fig, ax = plt.subplots(1, n_levels, figsize=(n_levels, 1))\n",
    "for i in range(n_levels):\n",
    "    ax[i].add_patch(plt.Rectangle((0, 0), 1, 1, color=colors[i]))\n",
    "    ax[i].axis('off')\n",
    "plt.show()"
   ]
  }
 ],
 "metadata": {
  "kernelspec": {
   "display_name": "daengenv",
   "language": "python",
   "name": "python3"
  },
  "language_info": {
   "codemirror_mode": {
    "name": "ipython",
    "version": 3
   },
   "file_extension": ".py",
   "mimetype": "text/x-python",
   "name": "python",
   "nbconvert_exporter": "python",
   "pygments_lexer": "ipython3",
   "version": "3.11.9"
  }
 },
 "nbformat": 4,
 "nbformat_minor": 2
}
